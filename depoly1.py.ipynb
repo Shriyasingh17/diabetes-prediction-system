{
 "cells": [
  {
   "cell_type": "code",
   "execution_count": 1,
   "id": "d45c227f-1487-407b-9adf-c001fe4dea0d",
   "metadata": {},
   "outputs": [
    {
     "name": "stdout",
     "output_type": "stream",
     "text": [
      "The Person is Diabetic\n"
     ]
    }
   ],
   "source": [
    "import numpy as np\n",
    "import pickle\n",
    "\n",
    "# File path for your trained model\n",
    "model_path = r'C:/Users/DELL/OneDrive/Desktop/diabetesprediction ml model/trained_model.sav'\n",
    "\n",
    "# Example input data\n",
    "input_data = (5, 166, 72, 19, 175, 25.8, 0.587, 51)\n",
    "\n",
    "# Convert input data to a NumPy array\n",
    "input_data_as_numpy_array = np.asarray(input_data)\n",
    "\n",
    "# Reshape the array for a single instance prediction\n",
    "input_data_reshaped = input_data_as_numpy_array.reshape(1, -1)\n",
    "\n",
    "# Load the trained model correctly\n",
    "with open(model_path, 'rb') as file:\n",
    "    loaded_model = pickle.load(file)\n",
    "\n",
    "# Make a prediction\n",
    "prediction = loaded_model.predict(input_data_reshaped)\n",
    "\n",
    "# Print the result\n",
    "if prediction[0] == 0:\n",
    "    print('The Person is not Diabetic')\n",
    "else:\n",
    "    print('The Person is Diabetic')"
   ]
  }
 ],
 "metadata": {
  "kernelspec": {
   "display_name": "Python 3 (ipykernel)",
   "language": "python",
   "name": "python3"
  },
  "language_info": {
   "codemirror_mode": {
    "name": "ipython",
    "version": 3
   },
   "file_extension": ".py",
   "mimetype": "text/x-python",
   "name": "python",
   "nbconvert_exporter": "python",
   "pygments_lexer": "ipython3",
   "version": "3.12.5"
  }
 },
 "nbformat": 4,
 "nbformat_minor": 5
}
