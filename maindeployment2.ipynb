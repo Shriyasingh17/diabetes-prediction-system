{
 "cells": [
  {
   "cell_type": "code",
   "execution_count": 1,
   "id": "08436ed7-b500-444e-87a3-94aa0924fbaf",
   "metadata": {},
   "outputs": [
    {
     "name": "stdout",
     "output_type": "stream",
     "text": [
      "\n",
      "Usage: streamlit run [OPTIONS] TARGET [ARGS]...\n",
      "Try 'streamlit run --help' for help.\n",
      "\n",
      "Error: Streamlit requires raw Python (.py) files, not .ipynb.\n",
      "For more information, please see https://docs.streamlit.io\n",
      "\n"
     ]
    }
   ],
   "source": [
    "import subprocess\n",
    "\n",
    "# Path to the Streamlit app script\n",
    "script_path = r\"C:\\Users\\DELL\\OneDrive\\Desktop\\diabetesprediction ml model\\streamlitcode.ipynb\"\n",
    "\n",
    "# Run Streamlit from within Jupyter Notebook using subprocess and capture the output\n",
    "result = subprocess.run([\"streamlit\", \"run\", script_path], capture_output=True, text=True)\n",
    "\n",
    "# Print the output to understand what's going wrong\n",
    "print(result.stdout)\n",
    "print(result.stderr)\n"
   ]
  }
 ],
 "metadata": {
  "kernelspec": {
   "display_name": "Python 3 (ipykernel)",
   "language": "python",
   "name": "python3"
  },
  "language_info": {
   "codemirror_mode": {
    "name": "ipython",
    "version": 3
   },
   "file_extension": ".py",
   "mimetype": "text/x-python",
   "name": "python",
   "nbconvert_exporter": "python",
   "pygments_lexer": "ipython3",
   "version": "3.12.5"
  }
 },
 "nbformat": 4,
 "nbformat_minor": 5
}
